{
 "cells": [
  {
   "cell_type": "code",
   "execution_count": 1,
   "metadata": {
    "id": "1EEXdMbFe4AU"
   },
   "outputs": [],
   "source": [
    "import matplotlib.pyplot as plt\n",
    "import numpy as np\n",
    "import _pickle as pickle\n",
    "import pandas as pd\n",
    "from sklearn.ensemble import RandomForestRegressor\n",
    "from datetime import datetime, timedelta"
   ]
  },
  {
   "cell_type": "markdown",
   "metadata": {
    "id": "6uCAD3AXksye"
   },
   "source": [
    "# Helper functions"
   ]
  },
  {
   "cell_type": "code",
   "execution_count": 5,
   "metadata": {
    "id": "F3yIKf3sknhu"
   },
   "outputs": [],
   "source": [
    "def compute_coverage_len(y_test, y_lower, y_upper):\n",
    "    \"\"\" \n",
    "    Compute average coverage and length of prediction intervals\n",
    "    \"\"\"\n",
    "    in_the_range = np.sum((y_test >= y_lower) & (y_test <= y_upper))\n",
    "    coverage = in_the_range / (y_test.shape[0]*y_test.shape[1])\n",
    "    avg_length = np.mean(abs(y_upper - y_lower))\n",
    "    avg_length = avg_length/(y_test.max()-y_test.min())\n",
    "    print(\"PI coverage:\",coverage,\",PI avg. length\",avg_length)\n",
    "    return coverage, avg_length\n",
    "\n",
    "\n",
    "def asym_nonconformity(label,low,high):\n",
    "    \"\"\"\n",
    "    Compute the asymetric conformity score\n",
    "    \n",
    "    credit - https://github.com/yromano/cqr\n",
    "    \"\"\"\n",
    "    y_lower = low\n",
    "    y_upper = high\n",
    "    error_high = label - y_upper \n",
    "    error_low = y_lower - label\n",
    "    return error_low, error_high\n",
    "\n",
    "\n",
    "def transform_to_windows(data_org, station):\n",
    "    \"\"\"\n",
    "    Create dataframe with hours as columns \n",
    "\n",
    "    credit - https://github.com/nicholasjhana/short-term-energy-demand-forecasting\n",
    "    \"\"\"\n",
    "    #from the original datetime index create new columns with each of the year, month, day, and hour.\n",
    "    data = data_org.copy()\n",
    "    data.loc[:,'year'] = data.index.year\n",
    "    data.loc[:,'month'] = data.index.month\n",
    "    data.loc[:,'day'] = data.index.day\n",
    "    data.loc[:,'hours'] = data.index.hour\n",
    "    #construct datetimes from the split year, month, day columns\n",
    "    data.loc[:,'date'] = pd.to_datetime(data.loc[:,['year', 'month', 'day']], format='%Y-%m-%d', errors='ignore')\n",
    "    #set the index to dates only\n",
    "    data = data.set_index(pd.DatetimeIndex(data['date']))\n",
    "    #drop non target columns \n",
    "    data = data.loc[:,[station, 'hours']]\n",
    "    #pivot the table into the format Date h0, h1, ...h23\n",
    "    data = data.pivot(columns='hours', values=station)\n",
    "    data = data.dropna()\n",
    "    return data\n",
    "\n",
    "\n",
    "def split_sequences(sequences, n_steps):\n",
    "    \"\"\"\n",
    "    Split data into observations and labels \n",
    "\n",
    "    credit - https://github.com/nicholasjhana/short-term-energy-demand-forecasting\n",
    "    \"\"\"\n",
    "    max_step=n_steps\n",
    "    n_steps+=1\n",
    "    X, y = list(), list()\n",
    "    for i in range(len(sequences)):\n",
    "        # find the end of this pattern\n",
    "        end_ix = i + max_step\n",
    "        #create a list with the indexes we want to include in each sample\n",
    "        slices = [x for x in range(end_ix-1,end_ix-n_steps, -1)] + [y for y in range(end_ix-n_steps, i, -7)]\n",
    "        #reverse the slice indexes\n",
    "        slices = list(reversed(slices))\n",
    "        # check if we are beyond the dataset\n",
    "        if end_ix > len(sequences)-1:\n",
    "            break\n",
    "        # gather input and output parts of the pattern\n",
    "        seq_x = sequences[slices, :]\n",
    "        seq_y = sequences[end_ix, :]\n",
    "        X.append(seq_x)\n",
    "        y.append(seq_y)\n",
    "    X = np.array(X)\n",
    "    X = np.reshape(X,(X.shape[0],X.shape[1]*X.shape[2],1))\n",
    "    y = np.array(y)\n",
    "    return X, y\n",
    "\n",
    "\n",
    "def create_datasets(data):\n",
    "    \"\"\"\n",
    "    Create input-output pairs from a dataframe with observations\n",
    "    \"\"\"\n",
    "    df_data=[]\n",
    "    cols = data.columns\n",
    "    for i,s in enumerate(cols): \n",
    "        if i == 0:\n",
    "            X,Y = split_sequences(transform_to_windows(data,s).values,7)\n",
    "            X = X.reshape((X.shape[0],X.shape[1]*X.shape[-1]))\n",
    "        else:\n",
    "            x,y = split_sequences(transform_to_windows(data,s).values,7)\n",
    "            x =x.reshape((x.shape[0],x.shape[1]*x.shape[-1]))\n",
    "            X = np.append(X,x,-1)\n",
    "    return X,Y\n",
    "\n",
    "\n",
    "def create_ensemble_datasets(df_train, B):\n",
    "    \"\"\"\n",
    "    Create independent ensemble subsets - subsampling \n",
    "\n",
    "    df_train = dataframe with training data\n",
    "    B = number of ensemble models \n",
    "    \"\"\"\n",
    "    train = []\n",
    "    train_ensemble=[]\n",
    "    cols = df_train.columns\n",
    "    for j,s in enumerate(cols):\n",
    "        df_v_t = transform_to_windows(df_train,s)\n",
    "        train_s = []\n",
    "        for i in range(B):\n",
    "            sb_size = int(np.floor(len(df_v_t)/B))\n",
    "            X,Y = split_sequences(df_v_t[i*sb_size:i*sb_size+sb_size].values,7)\n",
    "            train_s.append([X,Y])\n",
    "        train_ensemble.append(train_s)\n",
    "  \n",
    "    # combine all features \n",
    "    for j in range(B):\n",
    "        for i,s in enumerate(cols):\n",
    "            if i == 0:\n",
    "                etrain_x, etrain_y= train_ensemble[i][j]\n",
    "                etrain_x = etrain_x.reshape((etrain_x.shape[0],etrain_x.shape[1]*etrain_x.shape[-1]))\n",
    "            else:\n",
    "                etrain_xx, etrain_yy = train_ensemble[i][j]\n",
    "                etrain_xx = etrain_xx.reshape((etrain_xx.shape[0],etrain_xx.shape[1]*etrain_xx.shape[-1]))\n",
    "                etrain_x = np.append(etrain_x,etrain_xx,axis=-1)\n",
    "        train.append([etrain_x,etrain_y])\n",
    "    return train\n"
   ]
  },
  {
   "cell_type": "markdown",
   "metadata": {
    "id": "FFxlFs6EfaVE"
   },
   "source": [
    "# Dataset"
   ]
  },
  {
   "cell_type": "markdown",
   "metadata": {
    "id": "RhtuI8p6fOeJ"
   },
   "source": [
    "Import Solar dataset from https://github.com/Duvey314/austin-green-energy-predictor"
   ]
  },
  {
   "cell_type": "code",
   "execution_count": 6,
   "metadata": {
    "id": "Irj5U-purEbJ"
   },
   "outputs": [],
   "source": [
    "url = 'https://raw.githubusercontent.com/Duvey314/austin-green-energy-predictor/master/Resources/Output/Webberville_Solar_2017-2020_MWH.csv'\n",
    "df = pd.read_csv(url)\n",
    "df = df.drop(columns=('Weather_Description'))\n",
    "df = df.drop(columns=('Year'))\n",
    "df = df.drop(columns=('Month'))\n",
    "df = df.drop(columns=('Day'))\n",
    "df = df.drop(columns=('Hour'))\n",
    "df = df.drop(columns=('Date_Time'))\n",
    "\n",
    "# create date+hour index \n",
    "date_list = pd.date_range(start='01/01/2017', end='31/07/2020')\n",
    "date_list = pd.to_datetime(date_list)\n",
    "hour_list = []\n",
    "for nDate in date_list:\n",
    "    for nHour in range(24):\n",
    "        tmp_timestamp = nDate+timedelta(hours=nHour)\n",
    "        hour_list.append(tmp_timestamp)\n",
    "date_list = pd.to_datetime(hour_list) \n",
    "\n",
    "df['hour_list'] = date_list[:-1]\n",
    "df = df.set_index('hour_list')\n",
    "\n",
    "# train, val, test datasets\n",
    "df_train = df[0:365*24]\n",
    "df_val = df[365*24:365*24*2]\n",
    "df_test = df[365*24*2:365*24*3]\n",
    "\n",
    "# split into input-output pairs\n",
    "train_x, train_y = create_datasets(df_train)\n",
    "val_x, val_y = create_datasets(df_val)\n",
    "test_x, test_y = create_datasets(df_test)\n",
    "\n",
    "# create ensemble subsets - subsamping\n",
    "df_ensemble = create_ensemble_datasets(df_train,B=3)"
   ]
  },
  {
   "cell_type": "markdown",
   "metadata": {
    "id": "Yc212E7ygppb"
   },
   "source": [
    "# Quantile Random Forest (QRF)\n",
    "\n",
    "Build prediction intervals using quantile regression."
   ]
  },
  {
   "cell_type": "code",
   "execution_count": 7,
   "metadata": {
    "colab": {
     "base_uri": "https://localhost:8080/",
     "height": 282
    },
    "id": "rfVwlq-6gtCN",
    "outputId": "cf58fd06-f16e-4df1-d514-f414a1b11275"
   },
   "outputs": [
    {
     "name": "stdout",
     "output_type": "stream",
     "text": [
      "PI coverage: 0.8692970204841713 ,PI avg. length 0.25306891252652386\n"
     ]
    },
    {
     "data": {
      "image/png": "[encoded data removed]",
      "text/plain": [
       "<Figure size 432x288 with 1 Axes>"
      ]
     },
     "metadata": {
      "needs_background": "light"
     },
     "output_type": "display_data"
    }
   ],
   "source": [
    "def quantile_RF(train_x, train_y, test_x, n_trees = 10, percentile=90):\n",
    "  model = RandomForestRegressor(n_estimators=n_trees)\n",
    "  model.fit(train_x, train_y) \n",
    "  prediction_int = np.zeros((test_x.shape[0],24,3))\n",
    "  preds = []\n",
    "  for tree in model.estimators_:\n",
    "        preds.append(tree.predict(test_x))\n",
    "  for i in range(test_x.shape[0]):\n",
    "    for j in range(24):\n",
    "      single_pred= []\n",
    "      for d in range(len(model.estimators_)):\n",
    "        single_pred.append(preds[d][i,j])\n",
    "      prediction_int[i,j,0] = np.percentile(single_pred, (100 - percentile) / 2.)\n",
    "      prediction_int[i,j,1] = np.percentile(single_pred,50)\n",
    "      prediction_int[i,j,-1] = np.percentile(single_pred, 100 - (100 - percentile) / 2.)\n",
    "  return prediction_int\n",
    "\n",
    "pred = quantile_RF(train_x,train_y,test_x)\n",
    "c,l = compute_coverage_len(test_y,pred[:,:,0],pred[:,:,-1])\n",
    "\n",
    "plt.plot(pred[0,:,0],label='0.05')\n",
    "plt.plot(pred[0,:,-1],label='0.95')\n",
    "plt.plot(test_y[0,:],label='true')\n",
    "plt.legend()\n",
    "plt.show()"
   ]
  },
  {
   "cell_type": "markdown",
   "metadata": {
    "id": "MJ9AaFI5idsy"
   },
   "source": [
    "# EnbPI QRF\n",
    "\n",
    "Build prediction intervals using the EnbPI algorithm (http://proceedings.mlr.press/v139/xu21h.html)."
   ]
  },
  {
   "cell_type": "code",
   "execution_count": 8,
   "metadata": {
    "colab": {
     "base_uri": "https://localhost:8080/",
     "height": 284
    },
    "id": "qMccdRZr8Prl",
    "outputId": "f8f8f239-8b24-4195-8209-d586257fe570"
   },
   "outputs": [
    {
     "name": "stdout",
     "output_type": "stream",
     "text": [
      "PI coverage: 0.9054934823091247 ,PI avg. length 0.6324390083773399\n"
     ]
    },
    {
     "data": {
      "image/png": "[encoded data removed]",
      "text/plain": [
       "<Figure size 432x288 with 1 Axes>"
      ]
     },
     "metadata": {
      "needs_background": "light"
     },
     "output_type": "display_data"
    }
   ],
   "source": [
    "def fit_enbpi_bootstrap_models(train, testX, testY, B, index, alpha):\n",
    "  \"\"\" fit B TCN models on B bootstrap datasets created from train data\n",
    "  Parameters\n",
    "  ----------\n",
    "  trainX - training obs.\n",
    "  trainY - training labels\n",
    "  B      - no. bootstrap models \n",
    "\n",
    "  Returns\n",
    "  -------\n",
    "  f_hat_b_agg     - aggregated leave-one-out predictions for Sb\n",
    "  ensemble_models - trained models\n",
    "  \"\"\"\n",
    "  f_hat_b_agg = np.zeros((train[index[0]][0].shape[0],24,B))\n",
    "  ensemble_models = []\n",
    "\n",
    "  dct = {}    # dict containing LOO predictions\n",
    "  for key in index:\n",
    "    dct['pred_%s' % key] = []\n",
    "  \n",
    "  for b in range(B):    # training a model for each sub set Sb\n",
    "    rf = RandomForestRegressor(n_estimators=10)\n",
    "    rf.fit(train[b][0], train[b][1])\n",
    "    ensemble_models.append(rf)\n",
    "    # Leave-one-out predictions for each Sb\n",
    "    train_LOO = []\n",
    "    indx_LOO = index[np.arange(len(index))!=b]\n",
    "    for i in range(len(indx_LOO)):\n",
    "      dct['pred_%s' %indx_LOO[i]].append(rf.predict(train[indx_LOO[i]][0]))\n",
    "  for b in range(B):\n",
    "    f_hat_b_agg[:,:,b] = np.mean(dct['pred_%s' %b],axis=0) # aggregate predictions\n",
    "   \n",
    "  epsilon = []    # absolute residuals\n",
    "  for j in range(B):\n",
    "    trainY_inv = train[j][1]\n",
    "    for i in range(trainY_inv.shape[0]):\n",
    "      epsilon.append(abs(trainY_inv[i,:]-f_hat_b_agg[i,:,j]))\n",
    "  epsilon = np.ndarray.flatten(np.array(epsilon))\n",
    "  \n",
    "  f_hat_t = np.zeros((testX.shape[0],testY.shape[1],B))   # predict test data using B models\n",
    "  for b,model in enumerate(ensemble_models):\n",
    "      f_hat_t[:,:,b] = model.predict(testX)\n",
    "  \n",
    "  prediction_interval = np.zeros((testY.shape[0],testY.shape[1],3))\n",
    "  f_hat_t_agg = np.zeros((testY.shape[0],testY.shape[1]))\n",
    "  for day in range(testY.shape[0]):\n",
    "    f_hat_t_agg[day,:] = np.mean(f_hat_t[day,:,:],axis=-1) # aggregate all B predictions \n",
    "    for hour in range(testY.shape[1]):\n",
    "      ind_q = (np.ceil((1-alpha)*(len(epsilon)+1))).astype(int)\n",
    "      f_quantile = np.mean(f_hat_t[day,hour,:])\n",
    "      e_quantile = np.sort(epsilon)[ind_q]\n",
    "      prediction_interval[day,hour,0] = f_quantile - e_quantile\n",
    "      prediction_interval[day,hour,1] = f_quantile\n",
    "      prediction_interval[day,hour,-1] = f_quantile + e_quantile\n",
    "\n",
    "    # update epsilon (s = 24) - TO DO: add s an an input variable\n",
    "    e_j = abs(testY[day,:]-f_hat_t_agg[day,:])\n",
    "    epsilon = np.delete(epsilon,slice(0,24,1))\n",
    "    epsilon = np.append(epsilon,e_j)\n",
    "  return prediction_interval\n",
    "\n",
    "pred = fit_enbpi_bootstrap_models(df_ensemble, test_x, test_y, 3, np.array([0,1,2]), 0.10)\n",
    "c,l = compute_coverage_len(test_y,pred[:,:,0],pred[:,:,-1])\n",
    "\n",
    "plt.plot(pred[0,:,0],label='0.05')\n",
    "plt.plot(pred[0,:,-1],label='0.95')\n",
    "plt.plot(test_y[0,:],label='true')\n",
    "plt.legend()\n",
    "plt.show()"
   ]
  },
  {
   "cell_type": "markdown",
   "metadata": {
    "id": "l2KaxBEmiiZt"
   },
   "source": [
    "# EnCQR QRF\n",
    "\n",
    "Build prediction intervals using the proposed *Ensemble Conformalized Quantile Regression*."
   ]
  },
  {
   "cell_type": "code",
   "execution_count": 10,
   "metadata": {
    "colab": {
     "base_uri": "https://localhost:8080/",
     "height": 282
    },
    "id": "Bo832lF6wwd1",
    "outputId": "900d16c0-07b9-42e5-8d73-ab212824b3f2"
   },
   "outputs": [
    {
     "name": "stdout",
     "output_type": "stream",
     "text": [
      "PI coverage: 0.9146880819366853 ,PI avg. length 0.3294170414062304\n"
     ]
    },
    {
     "data": {
      "image/png": "[encoded data removed]",
      "text/plain": [
       "<Figure size 432x288 with 1 Axes>"
      ]
     },
     "metadata": {
      "needs_background": "light"
     },
     "output_type": "display_data"
    }
   ],
   "source": [
    "def pred_ints(model, X, percentile=90):\n",
    "    err_down = np.zeros((X.shape[0],24))\n",
    "    err_up = np.zeros((X.shape[0],24))\n",
    "    err = np.zeros((X.shape[0],24))\n",
    "\n",
    "    preds = []\n",
    "    for tree in model.estimators_:\n",
    "          preds.append(tree.predict(X))\n",
    "    for i in range(X.shape[0]):\n",
    "      for j in range(24):\n",
    "        single_pred= []\n",
    "        for d in range(len(model.estimators_)):\n",
    "          single_pred.append(preds[d][i,j])\n",
    "        err_down[i,j] = np.percentile(single_pred, (100 - percentile) / 2.)\n",
    "        err[i,j] = np.percentile(single_pred, 50)\n",
    "        err_up[i,j] = np.percentile(single_pred, 100 - (100 - percentile) / 2.)\n",
    "    return err_down, err, err_up\n",
    "\n",
    "def fit_EnCQR_models(train, testX, testY, B, index, alpha):\n",
    "  \"\"\" fit B TCN models on B subsets created from train data\n",
    "  Parameters\n",
    "  ----------\n",
    "  trainX - training obs.\n",
    "  trainY - training labels\n",
    "  B      - no. ensemble models \n",
    "\n",
    "  Returns\n",
    "  -------\n",
    "  f_hat_b_agg     - aggregated leave-one-out predictions for Sb\n",
    "  ensemble_models - trained models\n",
    "  indx            - array of Sb indices\n",
    "  \"\"\"\n",
    "  f_hat_b_agg_low = np.zeros((len(train[index[0]][0]),24,B))\n",
    "  f_hat_b_agg_mean = np.zeros((len(train[index[0]][0]),24,B))\n",
    "  f_hat_b_agg_high = np.zeros((len(train[index[0]][0]),24,B))\n",
    "  ensemble_models = []\n",
    "\n",
    "  # dict containing LOO predictions\n",
    "  dct_lo = {}\n",
    "  dct_mean = {}\n",
    "  dct_hi = {}\n",
    "  for key in index:\n",
    "    dct_lo['pred_%s' % key] = []\n",
    "    dct_mean['pred_%s' % key] = []\n",
    "    dct_hi['pred_%s' % key] = []\n",
    "\n",
    "  # training a model for each sub set Sb\n",
    "  for b in range(B):\n",
    "    rf = RandomForestRegressor(n_estimators=10)\n",
    "    rf.fit(train[b][0], train[b][1])\n",
    "    ensemble_models.append(rf)\n",
    "    # Leave-one-out predictions for each Sb\n",
    "    indx_LOO = index[np.arange(len(index))!=b]\n",
    "    for i in range(len(indx_LOO)):\n",
    "        pred = rf.predict(train[indx_LOO[i]][0])\n",
    "        err_down, err, err_up = pred_ints(rf, train[indx_LOO[i]][0], percentile=90)\n",
    "        dct_lo['pred_%s' %indx_LOO[i]].append(err_down)\n",
    "        dct_mean['pred_%s' %indx_LOO[i]].append(err)\n",
    "        dct_hi['pred_%s' %indx_LOO[i]].append(err_up)\n",
    "  for b in range(B):\n",
    "    f_hat_b_agg_low[:,:,b] = np.mean(dct_lo['pred_%s' %b],axis=0) \n",
    "    f_hat_b_agg_mean[:,:,b] = np.mean(dct_mean['pred_%s' %b],axis=0) \n",
    "    f_hat_b_agg_high[:,:,b] = np.mean(dct_hi['pred_%s' %b],axis=0)  \n",
    "\n",
    "  # residuals\n",
    "  epsilon = []\n",
    "  epsilon_hi=[]\n",
    "  for j in range(B):\n",
    "    trainY_inv = train[j][1]\n",
    "    # for each day in train Y \n",
    "    for i in range(trainY_inv.shape[0]):\n",
    "      e_low,e_high = asym_nonconformity(label=trainY_inv[i,:],low=f_hat_b_agg_low[i,:,j],high=f_hat_b_agg_high[i,:,j])\n",
    "      epsilon.append(e_low)\n",
    "      epsilon_hi.append(e_high)\n",
    "  epsilon = np.ndarray.flatten(np.array(epsilon))\n",
    "  epsilon_hi = np.ndarray.flatten(np.array(epsilon_hi))\n",
    "\n",
    "  # predict test data\n",
    "  f_hat_t_low = np.zeros((testX.shape[0],testY.shape[1],B))\n",
    "  f_hat_t_mean = np.zeros((testX.shape[0],testY.shape[1],B))\n",
    "  f_hat_t_high = np.zeros((testX.shape[0],testY.shape[1],B))\n",
    "  for b,model in enumerate(ensemble_models):\n",
    "   f_hat_t_low[:,:,b], f_hat_t_mean[:,:,b], f_hat_t_high[:,:,b] = pred_ints(model, testX, percentile=90)\n",
    "\n",
    "  # construct PI\n",
    "  prediction_interval = np.zeros((testY.shape[0],testY.shape[1],3))\n",
    "  f_hat_t_agg_low = np.zeros((testY.shape[0],testY.shape[1]))\n",
    "  f_hat_t_agg_mean = np.zeros((testY.shape[0],testY.shape[1]))\n",
    "  f_hat_t_agg_hi = np.zeros((testY.shape[0],testY.shape[1]))\n",
    "  org_prediction_interval = np.zeros((testY.shape[0],testY.shape[1],3))\n",
    "\n",
    "  \n",
    "  for day in range(testY.shape[0]):   # aggregate all B predictions for test data\n",
    "    f_hat_t_agg_low[day,:] = np.mean(f_hat_t_low[day,:,:],axis=-1)\n",
    "    f_hat_t_agg_mean[day,:] = np.mean(f_hat_t_mean[day,:,:],axis=-1)\n",
    "    f_hat_t_agg_hi[day,:] = np.mean(f_hat_t_high[day,:,:],axis=-1)\n",
    "\n",
    "    for hour in range(testY.shape[1]):\n",
    "      # asymetric conformity score index\n",
    "      index = int(np.ceil((1 - alpha / 2) * (len(epsilon) + 1))) - 1\n",
    "      index = min(max(index, 0), len(epsilon) - 1)\n",
    "\n",
    "      # aggregate predictions\n",
    "      f_quantile_low = np.mean(f_hat_t_low[day,hour,:])\n",
    "      f_quantile_mean = np.mean(f_hat_t_mean[day,hour,:])\n",
    "      f_quantile_high = np.mean(f_hat_t_high[day,hour,:])\n",
    "\n",
    "      # original PI, before conformalization \n",
    "      org_prediction_interval[day,hour,0],org_prediction_interval[day,hour,1],org_prediction_interval[day,hour,-1] = f_quantile_low,f_quantile_mean,f_quantile_high\n",
    "\n",
    "      # conformalization\n",
    "      e_quantile_lo = np.sort(epsilon)\n",
    "      e_quantile_hi = np.sort(epsilon_hi)\n",
    "      e_quantile_lo = e_quantile_lo[index]\n",
    "      e_quantile_hi = e_quantile_hi[index]  \n",
    "      prediction_interval[day,hour,0] = f_quantile_low - e_quantile_lo\n",
    "      prediction_interval[day,hour,1] = f_quantile_mean\n",
    "      prediction_interval[day,hour,-1] = f_quantile_high + e_quantile_hi\n",
    "\n",
    "    # update epsilon (s = 24) - TO DO: include s as an input variable\n",
    "    e_lo,e_hi = asym_nonconformity(label=testY[day,:],low=f_hat_t_agg_low[day,:],high=f_hat_t_agg_hi[day,:])\n",
    "    epsilon = np.delete(epsilon,slice(0,24,1))\n",
    "    epsilon_hi = np.delete(epsilon_hi,slice(0,24,1))\n",
    "    epsilon = np.append(epsilon,e_lo)\n",
    "    epsilon_hi = np.append(epsilon_hi,e_hi)\n",
    "  return prediction_interval\n",
    "\n",
    "pred = fit_EnCQR_models(df_ensemble, test_x, test_y, 3, np.array([0,1,2]), 0.10)\n",
    "c,l = compute_coverage_len(test_y,pred[:,:,0],pred[:,:,-1])\n",
    "plt.plot(pred[0,:,0],label='0.05')\n",
    "plt.plot(pred[0,:,-1],label='0.95')\n",
    "plt.plot(test_y[0,:],label='true')\n",
    "plt.legend()\n",
    "plt.show()"
   ]
  },
  {
   "cell_type": "code",
   "execution_count": null,
   "metadata": {},
   "outputs": [],
   "source": []
  }
 ],
 "metadata": {
  "colab": {
   "collapsed_sections": [],
   "name": "github-EnCQR-RF.ipynb",
   "provenance": [],
   "toc_visible": true
  },
  "kernelspec": {
   "display_name": "Python 3",
   "language": "python",
   "name": "python3"
  },
  "language_info": {
   "codemirror_mode": {
    "name": "ipython",
    "version": 3
   },
   "file_extension": ".py",
   "mimetype": "text/x-python",
   "name": "python",
   "nbconvert_exporter": "python",
   "pygments_lexer": "ipython3",
   "version": "3.7.7"
  },
  "toc": {
   "base_numbering": 1,
   "nav_menu": {},
   "number_sections": true,
   "sideBar": true,
   "skip_h1_title": false,
   "title_cell": "Table of Contents",
   "title_sidebar": "Contents",
   "toc_cell": false,
   "toc_position": {},
   "toc_section_display": true,
   "toc_window_display": false
  },
  "varInspector": {
   "cols": {
    "lenName": 16,
    "lenType": 16,
    "lenVar": 40
   },
   "kernels_config": {
    "python": {
     "delete_cmd_postfix": "",
     "delete_cmd_prefix": "del ",
     "library": "var_list.py",
     "varRefreshCmd": "print(var_dic_list())"
    },
    "r": {
     "delete_cmd_postfix": ") ",
     "delete_cmd_prefix": "rm(",
     "library": "var_list.r",
     "varRefreshCmd": "cat(var_dic_list()) "
    }
   },
   "types_to_exclude": [
    "module",
    "function",
    "builtin_function_or_method",
    "instance",
    "_Feature"
   ],
   "window_display": false
  }
 },
 "nbformat": 4,
 "nbformat_minor": 1
}
