{
 "cells": [
  {
   "cell_type": "code",
   "execution_count": 1,
   "id": "4de31946",
   "metadata": {},
   "outputs": [
    {
     "name": "stderr",
     "output_type": "stream",
     "text": [
      "2022-09-21 14:03:39.289529: I tensorflow/stream_executor/platform/default/dso_loader.cc:53] Successfully opened dynamic library libcudart.so.11.0\n"
     ]
    }
   ],
   "source": [
    "import pmdarima\n",
    "import numpy as np\n",
    "from sklearn.preprocessing import MinMaxScaler\n",
    "from utils import plot_PIs, compute_coverage_len\n",
    "import data_loaders\n",
    "from tqdm import tqdm\n",
    "import matplotlib.pyplot as plt\n",
    "from statsmodels.graphics.tsaplots import plot_acf\n",
    "import arch"
   ]
  },
  {
   "cell_type": "markdown",
   "id": "a45094e1",
   "metadata": {},
   "source": [
    "## Data loading and preprocessing\n",
    "\n",
    "In this example, we consider meterological data. We specify the forecast ``horizon`` variable and the main ``seasonality`` in the time series (in this case ``seasonality=24`` since the data have hourly resolution)."
   ]
  },
  {
   "cell_type": "code",
   "execution_count": 2,
   "id": "27d73615",
   "metadata": {},
   "outputs": [],
   "source": [
    "# load data\n",
    "df = data_loaders.get_met_data()\n",
    "seasonality=24  # the main seasonality of the data\n",
    "horizon=24      # we want to predict 1-day ahead\n",
    "\n",
    "df = df[:2000]"
   ]
  },
  {
   "cell_type": "markdown",
   "id": "fa8b7026",
   "metadata": {},
   "source": [
    "We use 80% of the time series for training and the remaining 20% for testing. "
   ]
  },
  {
   "cell_type": "code",
   "execution_count": 3,
   "id": "a280474d",
   "metadata": {},
   "outputs": [],
   "source": [
    "# train/test split\n",
    "n_train = int(df.shape[0]*0.8)\n",
    "train_df = df[:n_train]\n",
    "test_df = df[n_train:]"
   ]
  },
  {
   "cell_type": "markdown",
   "id": "cd78f2b6",
   "metadata": {},
   "source": [
    "Next we separate the target variable ``T (degC)`` from the other variables, which are used as exogenous variables."
   ]
  },
  {
   "cell_type": "code",
   "execution_count": 4,
   "id": "aac98276",
   "metadata": {},
   "outputs": [
    {
     "name": "stdout",
     "output_type": "stream",
     "text": [
      "y_train: (1600,), x_train: (1600, 18), y_test: (400,), x_test: (400, 18)\n"
     ]
    }
   ],
   "source": [
    "# separate exogenous variables (x) from the target variable (y)\n",
    "y_train = train_df['T (degC)'].values\n",
    "x_train = train_df.drop('T (degC)', axis=1).values\n",
    "y_test = test_df['T (degC)'].values\n",
    "x_test = test_df.drop('T (degC)', axis=1).values\n",
    "\n",
    "print(f\"y_train: {y_train.shape}, x_train: {x_train.shape}, y_test: {y_test.shape}, x_test: {x_test.shape}\")"
   ]
  },
  {
   "cell_type": "markdown",
   "id": "f8a666f4",
   "metadata": {},
   "source": [
    "Finally, we normalize the data in the range $[-1,1]$. We use a different scaler for the exogenous variables ($x$) and the target variable ($y$)."
   ]
  },
  {
   "cell_type": "code",
   "execution_count": 5,
   "id": "737268f3",
   "metadata": {},
   "outputs": [],
   "source": [
    "# instantiate the scaler\n",
    "y_scaler = MinMaxScaler()\n",
    "x_scaler = MinMaxScaler()\n",
    "\n",
    "# Normalize data\n",
    "y_train = y_scaler.fit_transform(y_train[...,None])\n",
    "x_train = x_scaler.fit_transform(x_train)\n",
    "y_test = y_scaler.transform(y_test[...,None])\n",
    "x_test = x_scaler.transform(x_test)"
   ]
  },
  {
   "cell_type": "markdown",
   "id": "03a8a4cd",
   "metadata": {},
   "source": [
    "## ARIMA model\n",
    "\n",
    "### Fit the ARIMA model\n",
    "We use ``auto_arima`` to find the best ARIMA model for the data at hand. The procedure takes a while. "
   ]
  },
  {
   "cell_type": "code",
   "execution_count": 6,
   "id": "f44e9501",
   "metadata": {},
   "outputs": [
    {
     "name": "stdout",
     "output_type": "stream",
     "text": [
      "Performing stepwise search to minimize aic\n",
      " ARIMA(1,1,1)(0,1,1)[24]             : AIC=-23290.564, Time=50.48 sec\n",
      " ARIMA(0,1,0)(0,1,0)[24]             : AIC=-22249.200, Time=23.27 sec\n",
      " ARIMA(1,1,0)(1,1,0)[24]             : AIC=-22913.990, Time=34.97 sec\n",
      " ARIMA(0,1,1)(0,1,1)[24]             : AIC=-23292.536, Time=47.57 sec\n",
      " ARIMA(0,1,1)(0,1,0)[24]             : AIC=-22469.955, Time=32.07 sec\n",
      " ARIMA(0,1,1)(1,1,1)[24]             : AIC=-23207.089, Time=27.69 sec\n",
      " ARIMA(0,1,1)(0,1,2)[24]             : AIC=inf, Time=95.04 sec\n",
      " ARIMA(0,1,1)(1,1,0)[24]             : AIC=-22934.091, Time=51.14 sec\n",
      " ARIMA(0,1,1)(1,1,2)[24]             : AIC=inf, Time=77.79 sec\n",
      " ARIMA(0,1,0)(0,1,1)[24]             : AIC=-23080.577, Time=52.53 sec\n",
      " ARIMA(0,1,2)(0,1,1)[24]             : AIC=-23287.506, Time=26.93 sec\n",
      " ARIMA(1,1,0)(0,1,1)[24]             : AIC=-23275.028, Time=20.22 sec\n",
      " ARIMA(1,1,2)(0,1,1)[24]             : AIC=-23285.934, Time=22.67 sec\n",
      " ARIMA(0,1,1)(0,1,1)[24] intercept   : AIC=-23225.901, Time=75.90 sec\n",
      "\n",
      "Best model:  ARIMA(0,1,1)(0,1,1)[24]          \n",
      "Total fit time: 638.298 seconds\n",
      "                                     SARIMAX Results                                      \n",
      "==========================================================================================\n",
      "Dep. Variable:                                  y   No. Observations:                 1600\n",
      "Model:             SARIMAX(0, 1, 1)x(0, 1, 1, 24)   Log Likelihood               11667.268\n",
      "Date:                            Wed, 21 Sep 2022   AIC                         -23292.536\n",
      "Time:                                    14:14:19   BIC                         -23179.934\n",
      "Sample:                                         0   HQIC                        -23250.690\n",
      "                                           - 1600                                         \n",
      "Covariance Type:                              opg                                         \n",
      "==============================================================================\n",
      "                 coef    std err          z      P>|z|      [0.025      0.975]\n",
      "------------------------------------------------------------------------------\n",
      "x1             0.2120      0.002    124.876      0.000       0.209       0.215\n",
      "x2             0.7590      0.006    127.662      0.000       0.747       0.771\n",
      "x3            -0.0041      0.001     -3.385      0.001      -0.006      -0.002\n",
      "x4            -0.0011      0.000     -4.040      0.000      -0.002      -0.001\n",
      "x5            -0.0027      0.008     -0.353      0.724      -0.018       0.012\n",
      "x6             0.0207      0.006      3.355      0.001       0.009       0.033\n",
      "x7             0.0113      0.003      3.439      0.001       0.005       0.018\n",
      "x8            -0.0055      0.005     -1.055      0.291      -0.016       0.005\n",
      "x9             0.0028      0.006      0.441      0.659      -0.010       0.015\n",
      "x10           -0.2838      0.006    -44.480      0.000      -0.296      -0.271\n",
      "x11           -0.0002      0.000     -0.836      0.403      -0.001       0.000\n",
      "x12         9.969e-05      0.000      0.619      0.536      -0.000       0.000\n",
      "x13         9.504e-05      0.000      0.498      0.618      -0.000       0.000\n",
      "x14           -0.0002      0.000     -1.090      0.276      -0.001       0.000\n",
      "x15         1.786e+06   3.31e-12   5.39e+17      0.000    1.79e+06    1.79e+06\n",
      "x16         2.808e+06   4.77e-12   5.89e+17      0.000    2.81e+06    2.81e+06\n",
      "x17            0.0123   2.26e-05    542.486      0.000       0.012       0.012\n",
      "x18            0.0017      0.000     15.188      0.000       0.001       0.002\n",
      "ma.L1         -0.3902      0.001   -274.678      0.000      -0.393      -0.387\n",
      "ma.S.L24      -0.7426      0.001   -960.623      0.000      -0.744      -0.741\n",
      "sigma2      2.059e-08   7.39e-10     27.862      0.000    1.91e-08     2.2e-08\n",
      "===================================================================================\n",
      "Ljung-Box (L1) (Q):                   0.09   Jarque-Bera (JB):                28.61\n",
      "Prob(Q):                              0.76   Prob(JB):                         0.00\n",
      "Heteroskedasticity (H):               0.86   Skew:                            -0.10\n",
      "Prob(H) (two-sided):                  0.09   Kurtosis:                         3.63\n",
      "===================================================================================\n",
      "\n",
      "Warnings:\n",
      "[1] Covariance matrix calculated using the outer product of gradients (complex-step).\n",
      "[2] Covariance matrix is singular or near-singular, with condition number 1.3e+33. Standard errors may be unstable.\n"
     ]
    }
   ],
   "source": [
    "# automatically fit the optimal ARIMA model for given time series\n",
    "arima_model = pmdarima.auto_arima(\n",
    "    y_train, exogenous=x_train,\n",
    "    start_p=1, start_q=1,\n",
    "    max_p=3, max_q=3, m=seasonality,\n",
    "    start_P=0, seasonal=True,\n",
    "    d=1, D=1, trace=True,\n",
    "    error_action='ignore',   # don't want to know if an order does not work\n",
    "    suppress_warnings=True,  # don't want convergence warnings\n",
    "    stepwise=True)\n",
    "print(arima_model.summary())"
   ]
  },
  {
   "cell_type": "markdown",
   "id": "e0a66800",
   "metadata": {},
   "source": [
    "After the model is fit, we collect the training residuals $\\epsilon_t = \\hat{y}_t - y_t$. The residuals give us an idea of how well the ARIMA model fits the training data. Also, the residuals will be used later to fit a GARCH model."
   ]
  },
  {
   "cell_type": "code",
   "execution_count": 7,
   "id": "c9007d9a",
   "metadata": {},
   "outputs": [],
   "source": [
    "# collect training residuals\n",
    "train_res = arima_model.arima_res_.resid"
   ]
  },
  {
   "cell_type": "code",
   "execution_count": 11,
   "id": "6e9f75e2",
   "metadata": {},
   "outputs": [
    {
     "data": {
      "image/png": "[encoded data removed]",
      "text/plain": [
       "<Figure size 432x288 with 1 Axes>"
      ]
     },
     "metadata": {
      "needs_background": "light"
     },
     "output_type": "display_data"
    }
   ],
   "source": [
    "plt.plot(y_train[100:500], label='y_train')\n",
    "plt.plot(train_res[100:500], label='train_res')\n",
    "plt.legend()\n",
    "plt.show()"
   ]
  },
  {
   "cell_type": "markdown",
   "id": "3ef3796f",
   "metadata": {},
   "source": [
    "Ideally, the residuals should be pure noise and, thus, uncorrelated with each other. To check this, we look at the autocorrelation plot."
   ]
  },
  {
   "cell_type": "code",
   "execution_count": 9,
   "id": "89a03ba2",
   "metadata": {},
   "outputs": [
    {
     "data": {
      "image/png": "[encoded data removed]",
      "text/plain": [
       "<Figure size 432x288 with 1 Axes>"
      ]
     },
     "metadata": {
      "needs_background": "light"
     },
     "output_type": "display_data"
    }
   ],
   "source": [
    "squared_train_res = train_res**2 \n",
    "plot_acf(squared_train_res)\n",
    "plt.show()"
   ]
  },
  {
   "cell_type": "markdown",
   "id": "843fcf24",
   "metadata": {},
   "source": [
    "### Make predictions\n",
    "\n",
    "Now that the model is fit, we can use it to make predictions at ``horizon`` steps ahead. After making each prediction, we update the ARIMA model with the new data as they become available. Also, we collect the residuals on the test data and the CI at the $\\alpha=0.1$ confidence level. "
   ]
  },
  {
   "cell_type": "code",
   "execution_count": 13,
   "id": "ae0b52d9",
   "metadata": {},
   "outputs": [
    {
     "name": "stderr",
     "output_type": "stream",
     "text": [
      "100%|████████████████████████████████████████████████████████████████████████████████████████████████████| 16/16 [07:32<00:00, 28.26s/it]\n"
     ]
    }
   ],
   "source": [
    "# Make predictions and update the model\n",
    "forecast, test_res, CI = [], [], []\n",
    "for step in tqdm(range(y_test.shape[0]//horizon)):\n",
    "    y_hat, conf_int = arima_model.predict(n_periods=horizon, return_conf_int=True, alpha=0.1, exogenous=x_test[step*horizon:(step+1)*horizon])\n",
    "    forecast.append(y_hat)\n",
    "    CI.append(conf_int)\n",
    "    test_res.append(y_test[step*horizon:(step+1)*horizon, 0] - y_hat)\n",
    "    arima_model.update(y_test[step*horizon:(step+1)*horizon], exogenous=x_test[step*horizon:(step+1)*horizon])\n",
    "    \n",
    "# collect predictions, CI, and residuals\n",
    "preds = np.hstack(forecast)[...,None]\n",
    "preds_ci = np.vstack(CI)\n",
    "test_res = np.hstack(test_res)"
   ]
  },
  {
   "cell_type": "code",
   "execution_count": 14,
   "id": "f02c8125",
   "metadata": {},
   "outputs": [],
   "source": [
    "# post-process output\n",
    "y_hat = y_scaler.inverse_transform(preds)\n",
    "y_hat_ci = y_scaler.inverse_transform(preds_ci)\n",
    "y_test = y_scaler.inverse_transform(y_test[:preds.shape[0]])"
   ]
  },
  {
   "cell_type": "code",
   "execution_count": 15,
   "id": "ae44efd7",
   "metadata": {},
   "outputs": [
    {
     "data": {
      "text/plain": [
       "<Figure size 432x288 with 0 Axes>"
      ]
     },
     "metadata": {},
     "output_type": "display_data"
    },
    {
     "data": {
      "image/png": "[encoded data removed]",
      "text/plain": [
       "<Figure size 864x252 with 1 Axes>"
      ]
     },
     "metadata": {
      "needs_background": "light"
     },
     "output_type": "display_data"
    },
    {
     "name": "stdout",
     "output_type": "stream",
     "text": [
      "PI coverage: 0.0%, PI avg. length: 0.000, CWC: 0.000\n"
     ]
    }
   ],
   "source": [
    "# plot and print arima results\n",
    "plot_PIs(y_test[:preds.shape[0]], y_hat, y_hat_ci[:,0], y_hat_ci[:,1], x_lims=[168,336])\n",
    "compute_coverage_len(y_test[:preds.shape[0],0], preds_ci[:,0], preds_ci[:,1], verbose=True)"
   ]
  },
  {
   "cell_type": "markdown",
   "id": "ee26b5f4",
   "metadata": {},
   "source": [
    "## GARCH models\n",
    "\n",
    "ARIMA models do not model a change in the variance over time. On the other hand, an ARCH method models the variance at a time step as a function of the residual errors from a mean process. ARCH expects the series is stationary, other than the change in variance, meaning it does not have a trend or seasonal component.\n",
    "In practice, ARCH can be used to model the expected variance on the residuals obtained from an ARIMA model.\n",
    "\n",
    "Generalized Autoregressive Conditional Heteroskedasticity (GARCH), is an extension of the ARCH model that incorporates a MA component together with the AR component.\n",
    "The introduction of a MA component allows GARCH to both model the conditional change in variance over time as well as changes in the time-dependent variance.\n",
    "\n",
    "Similarly to ARIMA, GARCH is parametrized by\n",
    "- p: the number of lag variances.\n",
    "- q: the number of lag residual errors.\n",
    "This parameters can be set by looking at the ACF and PACF of the squared residuals.\n",
    "\n",
    "In this case, we set $p=1$ and $q=2$."
   ]
  },
  {
   "cell_type": "code",
   "execution_count": null,
   "id": "f7df4631",
   "metadata": {},
   "outputs": [],
   "source": [
    "tot_res = np.concatenate((train_res, test_res))\n",
    "\n",
    "# specify garch model\n",
    "garch = arch.arch_model(\n",
    "    tot_res, \n",
    "    vol='garch', \n",
    "    p=1, q=2)\n",
    "\n",
    "# fit the garch model\n",
    "garch_fitted = garch.fit(\n",
    "    last_obs=train_res.shape[0] # specify where train data ends\n",
    "    )"
   ]
  },
  {
   "cell_type": "code",
   "execution_count": null,
   "id": "0c0e5440",
   "metadata": {},
   "outputs": [],
   "source": [
    "# forecasts with garch\n",
    "garch_forecast = garch_fitted.forecast(\n",
    "    start=train_res.shape[0], # specify where forecasting starts\n",
    "    horizon=horizon, \n",
    "    )\n",
    "\n",
    "garch_var = garch_forecast.variance['h.'+str(horizon)].iloc[train_res.shape[0]:].values\n",
    "garch_mean = garch_forecast.mean['h.'+str(horizon)].iloc[-test_res.shape[0]:].values"
   ]
  },
  {
   "cell_type": "code",
   "execution_count": null,
   "id": "d35d6d59",
   "metadata": {},
   "outputs": [],
   "source": [
    "plt.plot(test_res, label='test_res', color='k')\n",
    "plt.plot(garch_mean-np.sqrt(garch_var), color='b', label='garch_std')\n",
    "plt.plot(garch_mean+np.sqrt(garch_var), color='b')\n",
    "plt.plot(garch_mean, label='garch_mean')\n",
    "plt.legend()\n",
    "plt.show()"
   ]
  },
  {
   "cell_type": "code",
   "execution_count": null,
   "id": "50ecbb11",
   "metadata": {},
   "outputs": [],
   "source": [
    "# post-process output\n",
    "garch_std = np.sqrt(garch_var)[...,None]\n",
    "garch_ci_low = y_scaler.inverse_transform(preds-garch_std)\n",
    "garch_ci_hi = y_scaler.inverse_transform(preds+garch_std) "
   ]
  },
  {
   "cell_type": "code",
   "execution_count": null,
   "id": "7563ab2a",
   "metadata": {},
   "outputs": [],
   "source": [
    "# plot garch results\n",
    "plot_PIs(y_test, y_hat, garch_ci_low, garch_ci_hi, x_lims=[168,336], label_pi='Variance')\n",
    "compute_coverage_len(y_test[:preds.shape[0]].flatten(), garch_ci_low[:,0], garch_ci_hi[:,0], verbose=True)"
   ]
  }
 ],
 "metadata": {
  "kernelspec": {
   "display_name": "Python 3 (ipykernel)",
   "language": "python",
   "name": "python3"
  },
  "language_info": {
   "codemirror_mode": {
    "name": "ipython",
    "version": 3
   },
   "file_extension": ".py",
   "mimetype": "text/x-python",
   "name": "python",
   "nbconvert_exporter": "python",
   "pygments_lexer": "ipython3",
   "version": "3.7.11"
  }
 },
 "nbformat": 4,
 "nbformat_minor": 5
}
